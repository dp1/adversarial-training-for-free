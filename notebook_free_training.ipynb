{
  "nbformat": 4,
  "nbformat_minor": 0,
  "metadata": {
    "colab": {
      "provenance": []
    },
    "kernelspec": {
      "name": "python3",
      "display_name": "Python 3"
    },
    "language_info": {
      "name": "python"
    },
    "accelerator": "GPU",
    "gpuClass": "standard"
  },
  "cells": [
    {
      "cell_type": "code",
      "source": [
        "%pip install torchmetrics --quiet\n",
        "%pip install --upgrade matplotlib --quiet"
      ],
      "metadata": {
        "id": "sjmUDYhee5xG"
      },
      "execution_count": 1,
      "outputs": []
    },
    {
      "cell_type": "code",
      "execution_count": 2,
      "metadata": {
        "id": "MdNKE072bO1B",
        "colab": {
          "base_uri": "https://localhost:8080/",
          "height": 35
        },
        "outputId": "61550205-89c0-4bbd-ba47-6af2e308721e"
      },
      "outputs": [
        {
          "output_type": "execute_result",
          "data": {
            "text/plain": [
              "'3.7.0'"
            ],
            "application/vnd.google.colaboratory.intrinsic+json": {
              "type": "string"
            }
          },
          "metadata": {},
          "execution_count": 2
        }
      ],
      "source": [
        "import matplotlib.pyplot as plt\n",
        "import numpy as np\n",
        "import torch\n",
        "import torchvision\n",
        "from torch import nn\n",
        "from torch.nn import functional as F\n",
        "import torchmetrics\n",
        "from torchvision import transforms as T\n",
        "import tqdm\n",
        "from datetime import datetime\n",
        "import matplotlib\n",
        "matplotlib.__version__"
      ]
    },
    {
      "cell_type": "markdown",
      "source": [
        "# Adversarial Training for Free\n",
        "\n",
        "In this notebook we reproduce some of the results of the [\"Adversarial Training for Free!\"](https://arxiv.org/pdf/1904.12843.pdf) paper, which provides a fast method for _adversarial training_ of neural networks.\n",
        "\n",
        "## Adversarial attacks\n",
        "\n",
        "Ad adversarial attack tries to perturbate some input samples so that the networks misclassifies them. The are two types of attacks to consider:\n",
        "\n",
        "*   *non-targeted*\n",
        "*   *targeted* \n",
        "\n",
        "The first ones, given a starting input x, its true label y, the loss function *l* and perturbation budget δ, generate new inputs that differ from the original input by at most δ but are classified with a different label, with no specific label as a target.\n",
        "This is achieved by solving: \n",
        "\n",
        "$$\\underset{δ}{max} \\; l(x+δ,y,ϴ) \\;\\; \\text{subject to} \\;\\; \\lVert δ \\rVert_{p} \\leq ϵ.$$\n",
        "\n",
        "On the other hand, *targeted attacks* additionally require the resulting input to be classified with a specific label. \n",
        "\n",
        "We will focus on _non-targeted_ attacks. One of the most used methods is the [FGSM method](https://pyimagesearch.com/2021/03/01/adversarial-attacks-with-fgsm-fast-gradient-sign-method/) that, given a sample x, generates an adversarial sample $x_{adv}$ as:\n",
        "\n",
        "$$x_{adv}=x+ϵ∗sign(∇_xl(x,y,ϴ))$$\n",
        "\n",
        "A more advanced technique to generate adversarial examples is the PGD-K attack, which iteratively builds a perturbation over k iterations of FGSM, with uniform random noise as initialization. This attacks is quite slow, since it needs to perform k gradient computations for each sample, but generates strong adversarial samples.\n",
        "\n",
        "## Adversarial training\n",
        "\n",
        "To defend against PGD-K and other strong attacks we can use _adversarial training_, which includes adversarial samples in the training set. Generating these examples is, however, a difficult task, since it involves running PGD-K or similar attacks to obtain strong samples. For a given $k$, training a minibatch requires $k+1$ forward/backward iterations in the K-PGD adversarial training algorithm.\n",
        "\n",
        "The goal of this paper is to generate adversarial samples \"for free\", by recycling the gradient information computed when updating model parameters and generating adversarial examples with this information. Our results show that the training time of the model with the \"adversarial free training\" technique is never greater then classical training. To test the *free-training algorithm* we have used PGD-K, in particular PGD-20 and PGD-100."
      ],
      "metadata": {
        "id": "s2Mqi9WT2uag"
      }
    },
    {
      "cell_type": "markdown",
      "source": [
        "In order to make our experiments consistent we have always worked on the same gpu to train the model, a **Tesla T4**"
      ],
      "metadata": {
        "id": "eIFilAZe6YYE"
      }
    },
    {
      "cell_type": "code",
      "source": [
        "! nvidia-smi -L"
      ],
      "metadata": {
        "colab": {
          "base_uri": "https://localhost:8080/"
        },
        "id": "iel-QhqOn3l_",
        "outputId": "f20291fa-2c16-4ed1-8496-eb66d759ad89"
      },
      "execution_count": 3,
      "outputs": [
        {
          "output_type": "stream",
          "name": "stdout",
          "text": [
            "GPU 0: Tesla T4 (UUID: GPU-a21ca257-a7bf-ba7f-de3f-0e1719743f97)\n"
          ]
        }
      ]
    },
    {
      "cell_type": "markdown",
      "source": [
        "For training and testing we have used the CIFAR-10 dataset, a collection of 60.000 32x32x3 images with 10 classes. We have also applied some transformations on it in order to do data augmentation."
      ],
      "metadata": {
        "id": "ZwUm3hYj66Fu"
      }
    },
    {
      "cell_type": "code",
      "source": [
        "from torchvision.datasets import CIFAR10\n",
        "from torch.utils.data import DataLoader\n",
        "\n",
        "transform = T.Compose([\n",
        "        T.RandomRotation(15),\n",
        "        T.RandomHorizontalFlip(),\n",
        "        T.ToTensor()\n",
        "])\n",
        "\n",
        "batch_size = 64\n",
        "\n",
        "train_data = CIFAR10(root='./data', train=True, download=True, transform=transform)\n",
        "train_loader = DataLoader(train_data, batch_size=batch_size, shuffle=True, num_workers=2)\n",
        "\n",
        "test_data = CIFAR10(root='./data', train=False, download=True, transform=T.ToTensor())\n",
        "test_loader = DataLoader(test_data, batch_size=batch_size, shuffle=False, num_workers=2)"
      ],
      "metadata": {
        "colab": {
          "base_uri": "https://localhost:8080/"
        },
        "id": "Ir8L0Zd_cKfC",
        "outputId": "ed805100-3689-40e1-d3a1-58b113e6887a"
      },
      "execution_count": 4,
      "outputs": [
        {
          "output_type": "stream",
          "name": "stdout",
          "text": [
            "Files already downloaded and verified\n",
            "Files already downloaded and verified\n"
          ]
        }
      ]
    },
    {
      "cell_type": "markdown",
      "source": [
        "Since the paper focuses on the training algorithm and not the specifcs of the model, we have chosen to use the same architecture, ResNet, in its smallest configuration to keep the training time reasonable on colab.\n",
        "\n",
        "The ResNet model features multiple blocks with residual connections, which allow for training a deeper model. Indeed, without the use of residual connections, the performance of deep models tends to decrease as the number of layers increases over some limit, limiting their generalization ability. Residual connections provide alternative paths for the data to flow unmodified inside the model and to skip given blocks. This makes deeper networks feasible to train"
      ],
      "metadata": {
        "id": "pyQ8ewnR7jdG"
      }
    },
    {
      "cell_type": "code",
      "source": [
        "# From https://github.com/meliketoy/wide-resnet.pytorch/blob/master/networks/resnet.py\n",
        "\n",
        "import torch.nn.init as init\n",
        "from torch.autograd import Variable\n",
        "\n",
        "def conv3x3(in_planes, out_planes, stride=1):\n",
        "    return nn.Conv2d(in_planes, out_planes, kernel_size=3, stride=stride, padding=1, bias=True)\n",
        "\n",
        "def conv_init(m):\n",
        "    classname = m.__class__.__name__\n",
        "    if classname.find('Conv') != -1:\n",
        "        init.xavier_uniform(m.weight, gain=np.sqrt(2))\n",
        "        init.constant(m.bias, 0)\n",
        "\n",
        "def cfg(depth):\n",
        "    depth_lst = [18, 34, 50, 101, 152]\n",
        "    assert (depth in depth_lst), \"Error : Resnet depth should be either 18, 34, 50, 101, 152\"\n",
        "    cf_dict = {\n",
        "        '18': (BasicBlock, [2,2,2,2]),\n",
        "        '34': (BasicBlock, [3,4,6,3]),\n",
        "        '50': (Bottleneck, [3,4,6,3]),\n",
        "        '101':(Bottleneck, [3,4,23,3]),\n",
        "        '152':(Bottleneck, [3,8,36,3]),\n",
        "    }\n",
        "\n",
        "    return cf_dict[str(depth)]\n",
        "\n",
        "class BasicBlock(nn.Module):\n",
        "    expansion = 1\n",
        "\n",
        "    def __init__(self, in_planes, planes, stride=1):\n",
        "        super(BasicBlock, self).__init__()\n",
        "        self.conv1 = conv3x3(in_planes, planes, stride)\n",
        "        self.bn1 = nn.BatchNorm2d(planes)\n",
        "        self.conv2 = conv3x3(planes, planes)\n",
        "        self.bn2 = nn.BatchNorm2d(planes)\n",
        "\n",
        "        self.shortcut = nn.Sequential()\n",
        "        if stride != 1 or in_planes != self.expansion * planes:\n",
        "            self.shortcut = nn.Sequential(\n",
        "                nn.Conv2d(in_planes, self.expansion*planes, kernel_size=1, stride=stride, bias=True),\n",
        "                nn.BatchNorm2d(self.expansion*planes)\n",
        "            )\n",
        "\n",
        "    def forward(self, x):\n",
        "        out = F.relu(self.bn1(self.conv1(x)))\n",
        "        out = self.bn2(self.conv2(out))\n",
        "        out += self.shortcut(x)\n",
        "        out = F.relu(out)\n",
        "\n",
        "        return out\n",
        "\n",
        "class Bottleneck(nn.Module):\n",
        "    expansion = 4\n",
        "\n",
        "    def __init__(self, in_planes, planes, stride=1):\n",
        "        super(Bottleneck, self).__init__()\n",
        "        self.conv1 = nn.Conv2d(in_planes, planes, kernel_size=1, bias=True)\n",
        "        self.bn1 = nn.BatchNorm2d(planes)\n",
        "        self.conv2 = nn.Conv2d(planes, planes, kernel_size=3, stride=stride, padding=1, bias=True)\n",
        "        self.bn2 = nn.BatchNorm2d(planes)\n",
        "        self.conv3 = nn.Conv2d(planes, self.expansion*planes, kernel_size=1, bias=True)\n",
        "        self.bn3 = nn.BatchNorm2d(self.expansion*planes)\n",
        "\n",
        "        self.shortcut = nn.Sequential()\n",
        "        if stride != 1 or in_planes != self.expansion*planes:\n",
        "            self.shortcut = nn.Sequential(\n",
        "                nn.Conv2d(in_planes, self.expansion*planes, kernel_size=1, stride=stride, bias=True),\n",
        "                nn.BatchNorm2d(self.expansion*planes)\n",
        "            )\n",
        "\n",
        "    def forward(self, x):\n",
        "        out = F.relu(self.bn1(self.conv1(x)))\n",
        "        out = F.relu(self.bn2(self.conv2(out)))\n",
        "        out = self.bn3(self.conv3(out))\n",
        "        out += self.shortcut(x)\n",
        "        out = F.relu(out)\n",
        "\n",
        "        return out\n",
        "\n",
        "class ResNet(nn.Module):\n",
        "    def __init__(self, depth, num_classes):\n",
        "        super(ResNet, self).__init__()\n",
        "        self.in_planes = 16\n",
        "\n",
        "        block, num_blocks = cfg(depth)\n",
        "\n",
        "        self.conv1 = conv3x3(3,16)\n",
        "        self.bn1 = nn.BatchNorm2d(16)\n",
        "        self.layer1 = self._make_layer(block, 16, num_blocks[0], stride=1)\n",
        "        self.layer2 = self._make_layer(block, 32, num_blocks[1], stride=2)\n",
        "        self.layer3 = self._make_layer(block, 64, num_blocks[2], stride=2)\n",
        "        self.linear = nn.Linear(64*block.expansion, num_classes)\n",
        "\n",
        "    def _make_layer(self, block, planes, num_blocks, stride):\n",
        "        strides = [stride] + [1]*(num_blocks-1)\n",
        "        layers = []\n",
        "\n",
        "        for stride in strides:\n",
        "            layers.append(block(self.in_planes, planes, stride))\n",
        "            self.in_planes = planes * block.expansion\n",
        "\n",
        "        return nn.Sequential(*layers)\n",
        "\n",
        "    def forward(self, x):\n",
        "        out = F.relu(self.bn1(self.conv1(x)))\n",
        "        out = self.layer1(out)\n",
        "        out = self.layer2(out)\n",
        "        out = self.layer3(out)\n",
        "        out = F.avg_pool2d(out, 8)\n",
        "        out = out.view(out.size(0), -1)\n",
        "        out = self.linear(out)\n",
        "\n",
        "        return out"
      ],
      "metadata": {
        "id": "B7BS1f9r1909"
      },
      "execution_count": 5,
      "outputs": []
    },
    {
      "cell_type": "code",
      "source": [
        "device = 'cuda' if torch.cuda.is_available() else 'cpu'\n",
        "print(device)"
      ],
      "metadata": {
        "colab": {
          "base_uri": "https://localhost:8080/"
        },
        "id": "ybKMSm7If9Ci",
        "outputId": "0b639b3f-9ab5-4a73-89fc-8467fd0830a0"
      },
      "execution_count": 6,
      "outputs": [
        {
          "output_type": "stream",
          "name": "stdout",
          "text": [
            "cuda\n"
          ]
        }
      ]
    },
    {
      "cell_type": "code",
      "source": [
        "def create_model():\n",
        "  return ResNet(18, 10).to(device)"
      ],
      "metadata": {
        "id": "MZzeijnWf-SZ"
      },
      "execution_count": 7,
      "outputs": []
    },
    {
      "cell_type": "markdown",
      "source": [
        "Training each version of the model takes some time, so we store trained models on github. The following code blocks define functions for loading and saving models."
      ],
      "metadata": {
        "id": "A6pjwtbtfM67"
      }
    },
    {
      "cell_type": "code",
      "source": [
        "! rm -rf repo && git clone https://github.com/dp1/adversarial-training-for-free repo"
      ],
      "metadata": {
        "id": "YvZWyLInfZBR",
        "colab": {
          "base_uri": "https://localhost:8080/"
        },
        "outputId": "8cad5b45-48f2-494e-961e-6e5998a7586d"
      },
      "execution_count": 8,
      "outputs": [
        {
          "output_type": "stream",
          "name": "stdout",
          "text": [
            "Cloning into 'repo'...\n",
            "remote: Enumerating objects: 78, done.\u001b[K\n",
            "remote: Counting objects: 100% (78/78), done.\u001b[K\n",
            "remote: Compressing objects: 100% (70/70), done.\u001b[K\n",
            "remote: Total 78 (delta 17), reused 30 (delta 5), pack-reused 0\u001b[K\n",
            "Unpacking objects: 100% (78/78), 7.10 MiB | 11.94 MiB/s, done.\n"
          ]
        }
      ]
    },
    {
      "cell_type": "code",
      "source": [
        "def save_model(name, model, training_metadata):\n",
        "  torch.save({\n",
        "      'metadata': training_metadata,\n",
        "      'weights': model.state_dict()\n",
        "  }, f'{name}.pth')\n",
        "\n",
        "def load_model(name):\n",
        "  data = torch.load(f'repo/models/{name}.pth')\n",
        "  model = create_model()\n",
        "  model.load_state_dict(data['weights'])\n",
        "  return (model, data['metadata'])"
      ],
      "metadata": {
        "id": "j8cOwWRChMmt"
      },
      "execution_count": 9,
      "outputs": []
    },
    {
      "cell_type": "code",
      "source": [
        "import json\n",
        "def save_data(name, metadata):\n",
        "  with open(f'{name}.json', \"w\") as fout:\n",
        "    json.dump(metadata, fout)\n",
        "\n",
        "def load_data(name):\n",
        "  with open(f'repo/models/{name}.json') as fin:\n",
        "    data = json.load(fin)\n",
        "    return data"
      ],
      "metadata": {
        "id": "t8PQPFbB8Jwj"
      },
      "execution_count": 10,
      "outputs": []
    },
    {
      "cell_type": "markdown",
      "source": [
        "## Classical training algorithm"
      ],
      "metadata": {
        "id": "2W9ETAcS9S_g"
      }
    },
    {
      "cell_type": "code",
      "source": [
        "def accuracy(net, loader, device):\n",
        "  acc = torchmetrics.Accuracy(task='multiclass', num_classes=10).to(device)\n",
        "  for xb, yb in loader:\n",
        "      xb, yb = xb.to(device), yb.to(device)\n",
        "      ypred = net(xb)\n",
        "      _ = acc(ypred, yb)\n",
        "  return acc.compute()"
      ],
      "metadata": {
        "id": "m5ACjwqkgAoY"
      },
      "execution_count": 11,
      "outputs": []
    },
    {
      "cell_type": "code",
      "source": [
        "def train_model(model, epochs=60):\n",
        "  start_time = datetime.now()\n",
        "  epoch_accuracies = []\n",
        "\n",
        "  loss = nn.CrossEntropyLoss()\n",
        "  opt = torch.optim.Adam(model.parameters())\n",
        "\n",
        "  for epoch in range(epochs):\n",
        "    model.train()\n",
        "    for xb, yb in tqdm.tqdm(train_loader):\n",
        "      \n",
        "      xb, yb = xb.to(device), yb.to(device)\n",
        "\n",
        "      opt.zero_grad()\n",
        "      ypred = model(xb)\n",
        "      l = loss(ypred, yb)\n",
        "      l.backward()\n",
        "      opt.step()\n",
        "\n",
        "    model.eval()\n",
        "    epoch_accuracies.append(float(accuracy(model, test_loader, device)))\n",
        "    print(f'Accuracy at epoch {epoch}: {epoch_accuracies[-1]}')\n",
        "  \n",
        "  training_time = datetime.now() - start_time\n",
        "  print(f'Training took {training_time}')\n",
        "\n",
        "  return {\n",
        "      'training_seconds': round(training_time.total_seconds()),\n",
        "      'epoch_accuracies': epoch_accuracies\n",
        "  }"
      ],
      "metadata": {
        "id": "iw3gJ4mFam7F"
      },
      "execution_count": 12,
      "outputs": []
    },
    {
      "cell_type": "code",
      "source": [
        "#model = create_model()\n",
        "#accuracy(model, test_loader, device)\n",
        "#training_metadata = train_model(model, epochs=60)\n",
        "#save_model('resnet-natural', model, training_metadata)"
      ],
      "metadata": {
        "id": "bebsqFX_gE8f"
      },
      "execution_count": null,
      "outputs": []
    },
    {
      "cell_type": "markdown",
      "source": [
        "## PGD-k attack implementation"
      ],
      "metadata": {
        "id": "HAwkqzZo90Fc"
      }
    },
    {
      "cell_type": "code",
      "source": [
        "%pip install torchattacks"
      ],
      "metadata": {
        "colab": {
          "base_uri": "https://localhost:8080/"
        },
        "id": "9-NIPtUVjUXV",
        "outputId": "1d6eee18-96fb-4cd7-b6ba-dadb3f3f549a"
      },
      "execution_count": 13,
      "outputs": [
        {
          "output_type": "stream",
          "name": "stdout",
          "text": [
            "Looking in indexes: https://pypi.org/simple, https://us-python.pkg.dev/colab-wheels/public/simple/\n",
            "Collecting torchattacks\n",
            "  Downloading torchattacks-3.3.0-py3-none-any.whl (155 kB)\n",
            "\u001b[2K     \u001b[90m━━━━━━━━━━━━━━━━━━━━━━━━━━━━━━━━━━━━━━\u001b[0m \u001b[32m155.9/155.9 KB\u001b[0m \u001b[31m14.5 MB/s\u001b[0m eta \u001b[36m0:00:00\u001b[0m\n",
            "\u001b[?25hInstalling collected packages: torchattacks\n",
            "Successfully installed torchattacks-3.3.0\n"
          ]
        }
      ]
    },
    {
      "cell_type": "code",
      "source": [
        "import torchattacks"
      ],
      "metadata": {
        "id": "JvnxRxuzk51H"
      },
      "execution_count": 14,
      "outputs": []
    },
    {
      "cell_type": "code",
      "source": [
        "def test_pgd_attack(model, k=20):\n",
        "  atk = torchattacks.PGD(model, steps=k)\n",
        "  adversarial = [[atk(test_x, test_y), test_y] for test_x, test_y in test_loader]\n",
        "  \n",
        "  acc_normal = float(accuracy(model, test_loader, device))\n",
        "  acc_adversarial = float(accuracy(model, adversarial, device))\n",
        "  \n",
        "  print(f'Accuracy on normal dataset: {acc_normal}')\n",
        "  print(f'Accuracy on adversarial samples: {acc_adversarial}')\n",
        "  return acc_normal, acc_adversarial"
      ],
      "metadata": {
        "id": "9DX81xG9k_CQ"
      },
      "execution_count": 15,
      "outputs": []
    },
    {
      "cell_type": "code",
      "source": [
        "#test_pgd_attack(model, k=5)"
      ],
      "metadata": {
        "id": "XWSzjiAZlKpI"
      },
      "execution_count": 16,
      "outputs": []
    },
    {
      "cell_type": "markdown",
      "source": [
        "## Free Training Algorithm\n",
        "\n",
        "The key idea of the algorithm is to build a perturbation for the given training samples in multiple iterations, thus allowing for generating complex perturbations that should be resistent to PGD-K attacks. This is achieved by training on each minibatch $m$ times, and dividing the number of epochs by $m$ to keep the training time roughly constant.\n",
        "\n",
        "Each iteration performs an FGSM step and constrains the perturbation to be within the limit $\\epsilon$. The perturbation for each minibatch is initialized from the previous one (if any) to warm start the algorithm"
      ],
      "metadata": {
        "id": "yOAxEmsN97yz"
      }
    },
    {
      "cell_type": "code",
      "source": [
        "from torch.autograd import Variable\n",
        "\n",
        "def free_training(model, epochs=60, m=1, eps=8/255):\n",
        "  start_time = datetime.now()\n",
        "  epoch_accuracies = []\n",
        "\n",
        "  loss = nn.CrossEntropyLoss()\n",
        "  opt = torch.optim.Adam(model.parameters())\n",
        "\n",
        "  d = torch.zeros([batch_size, 3, 32, 32]).to(device)\n",
        "\n",
        "  for epoch in range(epochs // m):\n",
        "\n",
        "    model.train()\n",
        "    for xb, yb in tqdm.tqdm(train_loader):\n",
        "      xb, yb = xb.to(device), yb.to(device)\n",
        "      \n",
        "      for _ in range(m):\n",
        "\n",
        "        cur_batch_size = xb.shape[0]\n",
        "        delta = Variable(d[:cur_batch_size], requires_grad=True)\n",
        "        x_adv = xb + delta\n",
        "\n",
        "        opt.zero_grad()\n",
        "        ypred = model(x_adv)\n",
        "        l = loss(ypred, yb)\n",
        "        l.backward()\n",
        "\n",
        "        pert = torch.sign(delta.grad) * eps\n",
        "        d[:cur_batch_size] += pert.data\n",
        "        d.clamp_(-eps, eps)\n",
        "        \n",
        "        opt.step()\n",
        "\n",
        "    model.eval()\n",
        "    epoch_accuracies.append(float(accuracy(model, test_loader, device)))\n",
        "    print(f'Accuracy at epoch {epoch}: {epoch_accuracies[-1]}')\n",
        "    \n",
        "  training_time = datetime.now() - start_time\n",
        "  print(f'Training took {training_time}')\n",
        "\n",
        "  return {\n",
        "      'training_seconds': round(training_time.total_seconds()),\n",
        "      'epoch_accuracies': epoch_accuracies\n",
        "  }"
      ],
      "metadata": {
        "id": "h3cgVtUrcgIo"
      },
      "execution_count": 17,
      "outputs": []
    },
    {
      "cell_type": "markdown",
      "source": [
        "Free training was done as follows, with the models being saved on github."
      ],
      "metadata": {
        "id": "rdzwBPtkDO8p"
      }
    },
    {
      "cell_type": "code",
      "source": [
        "#for m in [1,2,4,6,10,15,30,60]:\n",
        "  #model_adv = create_model()\n",
        "  #training_metadata = free_training(model_adv, epochs=60, m=m, eps=8/255)\n",
        "  #print(training_metadata)\n",
        "  #save_model(f'resnet-m={m}', model_adv, training_metadata)"
      ],
      "metadata": {
        "id": "NSp5KCNhxMoS"
      },
      "execution_count": 18,
      "outputs": []
    },
    {
      "cell_type": "markdown",
      "source": [
        "## Evaluation for different values of m"
      ],
      "metadata": {
        "id": "ly3UPgPZJ9D7"
      }
    },
    {
      "cell_type": "code",
      "source": [
        "model, meta = load_model(\"resnet-natural\")\n",
        "acc_normal, acc_adv20 = test_pgd_attack(model, k=20)\n",
        "_, acc_adv100 = test_pgd_attack(model, k=100)\n",
        "time = meta[\"training_seconds\"]\n",
        "\n",
        "meta = {\"natural\": acc_normal,\n",
        "          \"pgd20_acc\": acc_adv20,\n",
        "          \"pgd100_acc\": acc_adv100,\n",
        "          \"train_time\": time }\n",
        "save_data(\"data-natural\", meta)\n",
        "\n",
        "\n",
        "for m in [1,2,4,6,10,15,30,60]:\n",
        "  model, meta = load_model(\"resnet-m=\"+str(m))\n",
        "  acc_normal, acc_adv20 = test_pgd_attack(model, k=20)\n",
        "  _, acc_adv100 = test_pgd_attack(model, k=100)\n",
        "  time = meta[\"training_seconds\"]\n",
        "  meta = {\"natural\": acc_normal,\n",
        "          \"pgd20_acc\": acc_adv20,\n",
        "          \"pgd100_acc\": acc_adv100,\n",
        "          \"train_time\": time }\n",
        "  save_data(\"data-m=\"+str(m), meta)"
      ],
      "metadata": {
        "id": "ZcAtevYN88JE",
        "colab": {
          "base_uri": "https://localhost:8080/"
        },
        "outputId": "381f3ffd-7392-4736-ff0d-14714cd2a40a"
      },
      "execution_count": null,
      "outputs": [
        {
          "output_type": "stream",
          "name": "stdout",
          "text": [
            "Accuracy on normal dataset: 0.8676999807357788\n",
            "Accuracy on adversarial samples: 0.0\n",
            "Accuracy on normal dataset: 0.8676999807357788\n",
            "Accuracy on adversarial samples: 0.0\n",
            "Accuracy on normal dataset: 0.8618000149726868\n",
            "Accuracy on adversarial samples: 0.00039999998989515007\n",
            "Accuracy on normal dataset: 0.8618000149726868\n",
            "Accuracy on adversarial samples: 0.0\n",
            "Accuracy on normal dataset: 0.791100025177002\n",
            "Accuracy on adversarial samples: 0.2689000070095062\n",
            "Accuracy on normal dataset: 0.791100025177002\n",
            "Accuracy on adversarial samples: 0.24660000205039978\n",
            "Accuracy on normal dataset: 0.6782000064849854\n",
            "Accuracy on adversarial samples: 0.37599998712539673\n",
            "Accuracy on normal dataset: 0.6782000064849854\n",
            "Accuracy on adversarial samples: 0.3626999855041504\n",
            "Accuracy on normal dataset: 0.6470999717712402\n",
            "Accuracy on adversarial samples: 0.37459999322891235\n",
            "Accuracy on normal dataset: 0.6470999717712402\n",
            "Accuracy on adversarial samples: 0.3684999942779541\n",
            "Accuracy on normal dataset: 0.5730999708175659\n",
            "Accuracy on adversarial samples: 0.35600000619888306\n",
            "Accuracy on normal dataset: 0.5730999708175659\n",
            "Accuracy on adversarial samples: 0.3402000069618225\n",
            "Accuracy on normal dataset: 0.5220999717712402\n",
            "Accuracy on adversarial samples: 0.34709998965263367\n",
            "Accuracy on normal dataset: 0.5220999717712402\n",
            "Accuracy on adversarial samples: 0.3391000032424927\n",
            "Accuracy on normal dataset: 0.4456000030040741\n",
            "Accuracy on adversarial samples: 0.27880001068115234\n",
            "Accuracy on normal dataset: 0.4456000030040741\n",
            "Accuracy on adversarial samples: 0.27250000834465027\n",
            "Accuracy on normal dataset: 0.30160000920295715\n",
            "Accuracy on adversarial samples: 0.17800000309944153\n",
            "Accuracy on normal dataset: 0.30160000920295715\n",
            "Accuracy on adversarial samples: 0.1623000055551529\n"
          ]
        }
      ]
    },
    {
      "cell_type": "markdown",
      "source": [
        "## Testing instructions\n",
        "\n",
        "To test the complete algorithm for a given $m$ and $k$, the following code can be used."
      ],
      "metadata": {
        "id": "uV3oV_nsDtfL"
      }
    },
    {
      "cell_type": "code",
      "source": [
        "m = 4\n",
        "k = 20\n",
        "model_adv = create_model()\n",
        "training_metadata = free_training(model_adv, epochs=60, m=m, eps=8/255)\n",
        "acc_natural, acc_adv = test_pgd_attack(model_adv, k=k)"
      ],
      "metadata": {
        "colab": {
          "base_uri": "https://localhost:8080/"
        },
        "id": "DwiXWYTmDz2-",
        "outputId": "32035007-1f32-4a29-dd7b-4a8adf03a9d3"
      },
      "execution_count": null,
      "outputs": [
        {
          "output_type": "stream",
          "name": "stderr",
          "text": [
            "100%|██████████| 782/782 [01:02<00:00, 12.47it/s]\n"
          ]
        },
        {
          "output_type": "stream",
          "name": "stdout",
          "text": [
            "Accuracy at epoch 0: 0.4551999866962433\n"
          ]
        },
        {
          "output_type": "stream",
          "name": "stderr",
          "text": [
            "100%|██████████| 782/782 [01:02<00:00, 12.52it/s]\n"
          ]
        },
        {
          "output_type": "stream",
          "name": "stdout",
          "text": [
            "Accuracy at epoch 1: 0.5267000198364258\n"
          ]
        },
        {
          "output_type": "stream",
          "name": "stderr",
          "text": [
            "100%|██████████| 782/782 [01:01<00:00, 12.66it/s]\n"
          ]
        },
        {
          "output_type": "stream",
          "name": "stdout",
          "text": [
            "Accuracy at epoch 2: 0.5633999705314636\n"
          ]
        },
        {
          "output_type": "stream",
          "name": "stderr",
          "text": [
            "100%|██████████| 782/782 [01:00<00:00, 12.88it/s]\n"
          ]
        },
        {
          "output_type": "stream",
          "name": "stdout",
          "text": [
            "Accuracy at epoch 3: 0.5855000019073486\n"
          ]
        },
        {
          "output_type": "stream",
          "name": "stderr",
          "text": [
            "100%|██████████| 782/782 [01:01<00:00, 12.75it/s]\n"
          ]
        },
        {
          "output_type": "stream",
          "name": "stdout",
          "text": [
            "Accuracy at epoch 4: 0.6173999905586243\n"
          ]
        },
        {
          "output_type": "stream",
          "name": "stderr",
          "text": [
            "100%|██████████| 782/782 [01:01<00:00, 12.71it/s]\n"
          ]
        },
        {
          "output_type": "stream",
          "name": "stdout",
          "text": [
            "Accuracy at epoch 5: 0.632099986076355\n"
          ]
        },
        {
          "output_type": "stream",
          "name": "stderr",
          "text": [
            "100%|██████████| 782/782 [01:01<00:00, 12.65it/s]\n"
          ]
        },
        {
          "output_type": "stream",
          "name": "stdout",
          "text": [
            "Accuracy at epoch 6: 0.6399000287055969\n"
          ]
        },
        {
          "output_type": "stream",
          "name": "stderr",
          "text": [
            "100%|██████████| 782/782 [01:03<00:00, 12.38it/s]\n"
          ]
        },
        {
          "output_type": "stream",
          "name": "stdout",
          "text": [
            "Accuracy at epoch 7: 0.6395999789237976\n"
          ]
        },
        {
          "output_type": "stream",
          "name": "stderr",
          "text": [
            "100%|██████████| 782/782 [01:02<00:00, 12.49it/s]\n"
          ]
        },
        {
          "output_type": "stream",
          "name": "stdout",
          "text": [
            "Accuracy at epoch 8: 0.6610000133514404\n"
          ]
        },
        {
          "output_type": "stream",
          "name": "stderr",
          "text": [
            "100%|██████████| 782/782 [01:01<00:00, 12.68it/s]\n"
          ]
        },
        {
          "output_type": "stream",
          "name": "stdout",
          "text": [
            "Accuracy at epoch 9: 0.6593000292778015\n"
          ]
        },
        {
          "output_type": "stream",
          "name": "stderr",
          "text": [
            "100%|██████████| 782/782 [01:01<00:00, 12.79it/s]\n"
          ]
        },
        {
          "output_type": "stream",
          "name": "stdout",
          "text": [
            "Accuracy at epoch 10: 0.656499981880188\n"
          ]
        },
        {
          "output_type": "stream",
          "name": "stderr",
          "text": [
            "100%|██████████| 782/782 [01:02<00:00, 12.52it/s]\n"
          ]
        },
        {
          "output_type": "stream",
          "name": "stdout",
          "text": [
            "Accuracy at epoch 11: 0.6769000291824341\n"
          ]
        },
        {
          "output_type": "stream",
          "name": "stderr",
          "text": [
            "100%|██████████| 782/782 [01:02<00:00, 12.42it/s]\n"
          ]
        },
        {
          "output_type": "stream",
          "name": "stdout",
          "text": [
            "Accuracy at epoch 12: 0.6938999891281128\n"
          ]
        },
        {
          "output_type": "stream",
          "name": "stderr",
          "text": [
            "100%|██████████| 782/782 [01:02<00:00, 12.48it/s]\n"
          ]
        },
        {
          "output_type": "stream",
          "name": "stdout",
          "text": [
            "Accuracy at epoch 13: 0.6876999735832214\n"
          ]
        },
        {
          "output_type": "stream",
          "name": "stderr",
          "text": [
            "100%|██████████| 782/782 [01:02<00:00, 12.56it/s]\n"
          ]
        },
        {
          "output_type": "stream",
          "name": "stdout",
          "text": [
            "Accuracy at epoch 14: 0.691100001335144\n",
            "Training took 0:16:06.648421\n",
            "Accuracy on normal dataset: 0.691100001335144\n",
            "Accuracy on adversarial samples: 0.3614000082015991\n"
          ]
        }
      ]
    },
    {
      "cell_type": "markdown",
      "source": [
        "# Results"
      ],
      "metadata": {
        "id": "-YacGfs_Qzxt"
      }
    },
    {
      "cell_type": "code",
      "source": [
        "for m in [1,2,4,6,10,15,30,60]:\n",
        "  #model, meta = load_model(\"resnet-m=\"+str(m))\n",
        "  meta_data = load_data(\"data-m=\"+str(m))\n",
        "  #acc_normal, acc_adv = test_pgd_attack(model, k=20)\n",
        "  train_time = meta_data[\"train_time\"]\n",
        "  acc_normal = meta_data[\"natural\"]\n",
        "  acc_adv20 = meta_data[\"pgd20_acc\"]\n",
        "  acc_adv100 = meta_data[\"pgd100_acc\"]\n",
        "  print(f\"...........................m={m}.........................................\")\n",
        "  print(f\"Model: Resnet-m={m}, training time: {train_time}s\")\n",
        "  print(f\"Accuracy on NATURAL dataset: {acc_normal}\")\n",
        "  print(f\"Accuracy on ADVERSARIAL dataset (PGD-20): {acc_adv20}\")\n",
        "  print(f\"Accuracy on ADVERSARIAL dataset (PGD-100): {acc_adv100}\")\n",
        "  print()"
      ],
      "metadata": {
        "id": "-hTjadK3lqhW",
        "colab": {
          "base_uri": "https://localhost:8080/"
        },
        "outputId": "359d3b93-c2db-4322-9678-03a92fdcdb25"
      },
      "execution_count": null,
      "outputs": [
        {
          "output_type": "stream",
          "name": "stdout",
          "text": [
            "...........................m=1.........................................\n",
            "Model: Resnet-m=1, training time: 1644s\n",
            "Accuracy on NATURAL dataset: 0.8618000149726868\n",
            "Accuracy on ADVERSARIAL dataset (PGD-20): 0.00039999998989515007\n",
            "Accuracy on ADVERSARIAL dataset (PGD-100): 0.0\n",
            "\n",
            "...........................m=2.........................................\n",
            "Model: Resnet-m=2, training time: 1187s\n",
            "Accuracy on NATURAL dataset: 0.791100025177002\n",
            "Accuracy on ADVERSARIAL dataset (PGD-20): 0.2689000070095062\n",
            "Accuracy on ADVERSARIAL dataset (PGD-100): 0.24660000205039978\n",
            "\n",
            "...........................m=4.........................................\n",
            "Model: Resnet-m=4, training time: 938s\n",
            "Accuracy on NATURAL dataset: 0.6782000064849854\n",
            "Accuracy on ADVERSARIAL dataset (PGD-20): 0.37599998712539673\n",
            "Accuracy on ADVERSARIAL dataset (PGD-100): 0.3626999855041504\n",
            "\n",
            "...........................m=6.........................................\n",
            "Model: Resnet-m=6, training time: 863s\n",
            "Accuracy on NATURAL dataset: 0.6470999717712402\n",
            "Accuracy on ADVERSARIAL dataset (PGD-20): 0.37459999322891235\n",
            "Accuracy on ADVERSARIAL dataset (PGD-100): 0.3684999942779541\n",
            "\n",
            "...........................m=10.........................................\n",
            "Model: Resnet-m=10, training time: 798s\n",
            "Accuracy on NATURAL dataset: 0.5730999708175659\n",
            "Accuracy on ADVERSARIAL dataset (PGD-20): 0.35600000619888306\n",
            "Accuracy on ADVERSARIAL dataset (PGD-100): 0.3402000069618225\n",
            "\n",
            "...........................m=15.........................................\n",
            "Model: Resnet-m=15, training time: 760s\n",
            "Accuracy on NATURAL dataset: 0.5220999717712402\n",
            "Accuracy on ADVERSARIAL dataset (PGD-20): 0.34709998965263367\n",
            "Accuracy on ADVERSARIAL dataset (PGD-100): 0.3391000032424927\n",
            "\n",
            "...........................m=30.........................................\n",
            "Model: Resnet-m=30, training time: 716s\n",
            "Accuracy on NATURAL dataset: 0.4456000030040741\n",
            "Accuracy on ADVERSARIAL dataset (PGD-20): 0.27880001068115234\n",
            "Accuracy on ADVERSARIAL dataset (PGD-100): 0.27250000834465027\n",
            "\n",
            "...........................m=60.........................................\n",
            "Model: Resnet-m=60, training time: 689s\n",
            "Accuracy on NATURAL dataset: 0.30160000920295715\n",
            "Accuracy on ADVERSARIAL dataset (PGD-20): 0.17800000309944153\n",
            "Accuracy on ADVERSARIAL dataset (PGD-100): 0.1623000055551529\n",
            "\n"
          ]
        }
      ]
    },
    {
      "cell_type": "markdown",
      "source": [
        "## Accuracy on natural data\n",
        "\n",
        "Just like in the paper, we see a decrease in accuracy for the natural dataset as $m$ increases. This is due to increased generalization error when repeating epochs multiple times. Informally, the networks tends to forget about earlier minibatches more as the replay count increases. In the worst case where most of the information is in the first minibatch, the model would tend to ignore most of it for a sufficiently high $m$.\n",
        "\n",
        "Conversely increasing $m$ leads to an increase in robustness, which we will explore in the next section."
      ],
      "metadata": {
        "id": "S3sUhvAsKRSC"
      }
    },
    {
      "cell_type": "code",
      "source": [
        "fig,axes=plt.subplots(figsize=(14, 7))\n",
        "axes.set_title(\"Resnet18 free trained, accuracy on natural CIFAR-10\")\n",
        "axes.set_xlabel(\"number of replay steps m\")\n",
        "axes.set_ylabel(\"validation accuracy (%)\")\n",
        "categories = [\"m=1\", \"m=2\", \"m=4\", \"m=6\", \"m=10\", \"m=15\", \"m=30\", \"m=60\"] \n",
        "output = []\n",
        "\n",
        "for m in [1,2,4,6,10,15,30,60]:\n",
        "  data = load_data(\"data-m=\"+str(m))\n",
        "  accuracy_m = data[\"natural\"]\n",
        "  output.append(accuracy_m)\n",
        "  \n",
        "axes.set_yticks(np.linspace(0,1,11))\n",
        "axes.set_ylim(0,1)\n",
        "b=axes.bar(categories, output, edgecolor=\"black\")\n",
        "axes.bar_label(b, padding=3)\n",
        "plt.show()"
      ],
      "metadata": {
        "id": "7ZyP3MA0w9xe",
        "colab": {
          "base_uri": "https://localhost:8080/",
          "height": 458
        },
        "outputId": "b5ff7fb2-57c5-4080-aff6-f028f40d1427"
      },
      "execution_count": null,
      "outputs": [
        {
          "output_type": "display_data",
          "data": {
            "text/plain": [
              "<Figure size 1008x504 with 1 Axes>"
            ],
            "image/png": "[encoded data removed]"
          },
          "metadata": {
            "needs_background": "light"
          }
        }
      ]
    },
    {
      "cell_type": "markdown",
      "source": [
        "## Accuracy over adversarial samples\n",
        "\n",
        "In this plot we can see the positive effect of a higher $m$ value on robustness against adversarial attacks. This is true up to a point, which in our case is reached at $m=4$.\n",
        "\n",
        "For this value, we have the highest accuracy on adversarial samples, while maintaning an acceptable accuracy on the natural data, considering the limited size of our model and training time."
      ],
      "metadata": {
        "id": "U_8xcGrqKVTD"
      }
    },
    {
      "cell_type": "code",
      "source": [
        "import pandas as pd\n",
        "train_algs = ['Natural', 'Free m=2', 'Free m=4', 'Free m=6', 'Free m=10', 'Free m=15', 'Free m=30']\n",
        "natural_data = []\n",
        "pgd_20 = []\n",
        "pgd_100 = []\n",
        "time = []\n",
        "\n",
        "# NATURAL TRAINING\n",
        "data = load_data(\"data-natural\")\n",
        "time.append(data[\"train_time\"] / 60)\n",
        "pgd_20.append(data[\"pgd20_acc\"])\n",
        "pgd_100.append(data[\"pgd100_acc\"])\n",
        "natural_data.append(data[\"natural\"])\n",
        "\n",
        "# FREE TRAINING\n",
        "for m in [2,4,6,10,15,30]:\n",
        "  meta = load_data(\"data-m=\"+str(m))\n",
        "  time.append(meta[\"train_time\"] / 60)\n",
        "  pgd_20.append(meta[\"pgd20_acc\"])\n",
        "  pgd_100.append(meta[\"pgd100_acc\"])\n",
        "  natural_data.append(meta[\"natural\"])\n",
        "\n",
        "data = {'Natural-Dataset': natural_data,\n",
        "        'PGD-20':pgd_20,\n",
        "        'PGD-100':pgd_100,\n",
        "        'Training-Time (min)':time}\n",
        "table=pd.DataFrame(data, dtype=float, index= train_algs)\n",
        "print(table)"
      ],
      "metadata": {
        "id": "cBZXOhN7LdxN",
        "colab": {
          "base_uri": "https://localhost:8080/"
        },
        "outputId": "44d97a6f-5d09-4bd0-bdc7-bbce1665ff56"
      },
      "execution_count": null,
      "outputs": [
        {
          "output_type": "stream",
          "name": "stdout",
          "text": [
            "           Natural-Dataset  PGD-20  PGD-100  Training-Time (min)\n",
            "Natural             0.8677  0.0000   0.0000            27.166667\n",
            "Free m=2            0.7911  0.2689   0.2466            19.783333\n",
            "Free m=4            0.6782  0.3760   0.3627            15.633333\n",
            "Free m=6            0.6471  0.3746   0.3685            14.383333\n",
            "Free m=10           0.5731  0.3560   0.3402            13.300000\n",
            "Free m=15           0.5221  0.3471   0.3391            12.666667\n",
            "Free m=30           0.4456  0.2788   0.2725            11.933333\n"
          ]
        }
      ]
    },
    {
      "cell_type": "code",
      "source": [
        "fig,axes=plt.subplots(figsize=(18, 7))\n",
        "axes.set_xlabel(\"number of replay steps m\")\n",
        "axes.set_ylabel(\"validation accuracy (%)\")\n",
        "categories = [\"m=1\", \"m=2\", \"m=4\", \"m=6\", \"m=10\", \"m=15\", \"m=30\", \"m=60\"] \n",
        "\n",
        "output = []\n",
        "output_20 = []\n",
        "output_100 = []\n",
        "\n",
        "for m in [1,2,4,6,10,15,30,60]:\n",
        "  data = load_data(\"data-m=\"+str(m))\n",
        "  output.append(data[\"natural\"])\n",
        "  output_20.append(data[\"pgd20_acc\"])\n",
        "  output_100.append(data[\"pgd100_acc\"])\n",
        "\n",
        "width=0.3\n",
        "x = np.arange(len(categories))\n",
        "axes.set_title(\"Resnet18 free trained, accuracy on natural and adversarial samples\")\n",
        "axes.set_yticks(np.linspace(0,1,11))\n",
        "axes.set_ylim(0,1)\n",
        "b0=axes.bar(x-width, output, width, edgecolor=\"black\", label=\"natural\")\n",
        "b1=axes.bar(x, output_20, width, edgecolor=\"black\", label=\"PGD-20\")\n",
        "b2=axes.bar(x+width, output_100, width, edgecolor=\"black\", label=\"PGD-100\")\n",
        "axes.bar_label(b0, fmt=\"%.3f\", padding=3)\n",
        "axes.bar_label(b1, fmt=\"%.3f\", padding=3)\n",
        "axes.bar_label(b2, fmt=\"%.3f\", padding=3)\n",
        "axes.set_xticks(x, categories)\n",
        "axes.legend()\n",
        "plt.show()"
      ],
      "metadata": {
        "colab": {
          "base_uri": "https://localhost:8080/",
          "height": 458
        },
        "id": "sooT_xOBLiEN",
        "outputId": "e93c4a0d-6ada-4c21-e2ab-ab68192ebdf6"
      },
      "execution_count": 20,
      "outputs": [
        {
          "output_type": "display_data",
          "data": {
            "text/plain": [
              "<Figure size 1296x504 with 1 Axes>"
            ],
            "image/png": "[encoded data removed]"
          },
          "metadata": {
            "needs_background": "light"
          }
        }
      ]
    },
    {
      "cell_type": "code",
      "source": [],
      "metadata": {
        "id": "5KkzyACPuGeF"
      },
      "execution_count": null,
      "outputs": []
    }
  ]
}