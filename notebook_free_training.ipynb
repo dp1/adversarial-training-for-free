{
  "nbformat": 4,
  "nbformat_minor": 0,
  "metadata": {
    "colab": {
      "provenance": []
    },
    "kernelspec": {
      "name": "python3",
      "display_name": "Python 3"
    },
    "language_info": {
      "name": "python"
    },
    "accelerator": "GPU",
    "gpuClass": "standard"
  },
  "cells": [
    {
      "cell_type": "code",
      "source": [
        "%pip install torchmetrics --quiet"
      ],
      "metadata": {
        "id": "sjmUDYhee5xG"
      },
      "execution_count": 1,
      "outputs": []
    },
    {
      "cell_type": "markdown",
      "source": [],
      "metadata": {
        "id": "41zQeFlW5rNa"
      }
    },
    {
      "cell_type": "code",
      "execution_count": 2,
      "metadata": {
        "id": "MdNKE072bO1B"
      },
      "outputs": [],
      "source": [
        "import matplotlib.pyplot as plt\n",
        "import numpy as np\n",
        "import torch\n",
        "import torchvision\n",
        "from torch import nn\n",
        "from torch.nn import functional as F\n",
        "import torchmetrics\n",
        "from torchvision import transforms as T\n",
        "import tqdm\n",
        "import matplotlib.pyplot as plt\n",
        "from datetime import datetime"
      ]
    },
    {
      "cell_type": "markdown",
      "source": [
        "In this notebook we show the implementation of the \"adversarial free training\"  (https://arxiv.org/pdf/1904.12843.pdf), an algorithm that has the objective to train a model against adversarial examples without involving the big overhead that a task like this usually implies. In fact it is well known that generate adversarial example is an expensive task, but the key point of this algorithm aims to handle it by recycling the gradient information computed when updating model paramaters and generate adversarial examples with this information. Indeed, making the numbers speak, the training time of the model with the \"adversarial free training\" and with the classic training is about the same.\n",
        "To test the free-algorithm we have use the PGD-K attack for generating adversarial datasets. PGD-K is a simple variant of the FGSM method (https://pyimagesearch.com/2021/03/01/adversarial-attacks-with-fgsm-fast-gradient-sign-method/) that, given a sample x, generate an adversarial example $x_{adv}$ in this way:\n",
        "$x_{adv} = x+ \\epsilon*sign(\\nabla_x(l(x,y,ϴ))$.\n",
        "\n",
        "\n",
        "PGD-K is an iterativate version of FGSM (k iterations) with a uniroform random noise as attacks.\n",
        "\n",
        "\n",
        "\n",
        "\n"
      ],
      "metadata": {
        "id": "r4Xuv_wEzlHy"
      }
    },
    {
      "cell_type": "markdown",
      "source": [
        "In order to make our experiments coerent we have always worked on the same gpu to train the model, a **Tesla T4 (UUID: GPU-c5501dbc-32d1-e97b-3398-84328677c15c)**"
      ],
      "metadata": {
        "id": "eIFilAZe6YYE"
      }
    },
    {
      "cell_type": "code",
      "source": [
        "! nvidia-smi -L"
      ],
      "metadata": {
        "colab": {
          "base_uri": "https://localhost:8080/"
        },
        "id": "iel-QhqOn3l_",
        "outputId": "04d0bdac-890a-4647-8477-18014e9c007b"
      },
      "execution_count": 3,
      "outputs": [
        {
          "output_type": "stream",
          "name": "stdout",
          "text": [
            "GPU 0: Tesla T4 (UUID: GPU-9e6c8fe7-b521-a730-e0f7-90d25ef9374f)\n"
          ]
        }
      ]
    },
    {
      "cell_type": "markdown",
      "source": [
        "GPU 0: Tesla T4 (UUID: GPU-c5501dbc-32d1-e97b-3398-84328677c15c)\n",
        "# TODO: describe why we want use for all tests always the same GPU"
      ],
      "metadata": {
        "id": "E1NB8DG4oF_p"
      }
    },
    {
      "cell_type": "markdown",
      "source": [
        "As dataset for training and test we have used CIFAR10, a collection of 60.000 32x32x8 images with 10 classes of classification. We have also applied some transformations on it in order to do some data augmentation. "
      ],
      "metadata": {
        "id": "ZwUm3hYj66Fu"
      }
    },
    {
      "cell_type": "code",
      "source": [
        "from torchvision.datasets import CIFAR10\n",
        "from torch.utils.data import DataLoader\n",
        "\n",
        "transform = T.Compose([\n",
        "        T.RandomRotation(15),\n",
        "        T.RandomHorizontalFlip(),\n",
        "        T.ToTensor()\n",
        "])\n",
        "\n",
        "batch_size = 64\n",
        "\n",
        "train_data = CIFAR10(root='./data', train=True, download=True, transform=transform)\n",
        "train_loader = DataLoader(train_data, batch_size=batch_size, shuffle=True, num_workers=2)\n",
        "\n",
        "test_data = CIFAR10(root='./data', train=False, download=True, transform=T.ToTensor())\n",
        "test_loader = DataLoader(test_data, batch_size=batch_size, shuffle=False, num_workers=2)\n",
        "\n",
        "# classes = ('plane', 'car', 'bird', 'cat', 'deer', 'dog', 'frog', 'horse', 'ship', 'truck')"
      ],
      "metadata": {
        "colab": {
          "base_uri": "https://localhost:8080/"
        },
        "id": "Ir8L0Zd_cKfC",
        "outputId": "e8e6c936-bd45-4c30-ac66-df526d362fb2"
      },
      "execution_count": 4,
      "outputs": [
        {
          "output_type": "stream",
          "name": "stdout",
          "text": [
            "Files already downloaded and verified\n",
            "Files already downloaded and verified\n"
          ]
        }
      ]
    },
    {
      "cell_type": "markdown",
      "source": [
        "**TODO:** explain the model"
      ],
      "metadata": {
        "id": "pyQ8ewnR7jdG"
      }
    },
    {
      "cell_type": "code",
      "source": [
        "# From https://github.com/meliketoy/wide-resnet.pytorch/blob/master/networks/resnet.py\n",
        "\n",
        "import torch.nn.init as init\n",
        "from torch.autograd import Variable\n",
        "\n",
        "def conv3x3(in_planes, out_planes, stride=1):\n",
        "    return nn.Conv2d(in_planes, out_planes, kernel_size=3, stride=stride, padding=1, bias=True)\n",
        "\n",
        "def conv_init(m):\n",
        "    classname = m.__class__.__name__\n",
        "    if classname.find('Conv') != -1:\n",
        "        init.xavier_uniform(m.weight, gain=np.sqrt(2))\n",
        "        init.constant(m.bias, 0)\n",
        "\n",
        "def cfg(depth):\n",
        "    depth_lst = [18, 34, 50, 101, 152]\n",
        "    assert (depth in depth_lst), \"Error : Resnet depth should be either 18, 34, 50, 101, 152\"\n",
        "    cf_dict = {\n",
        "        '18': (BasicBlock, [2,2,2,2]),\n",
        "        '34': (BasicBlock, [3,4,6,3]),\n",
        "        '50': (Bottleneck, [3,4,6,3]),\n",
        "        '101':(Bottleneck, [3,4,23,3]),\n",
        "        '152':(Bottleneck, [3,8,36,3]),\n",
        "    }\n",
        "\n",
        "    return cf_dict[str(depth)]\n",
        "\n",
        "class BasicBlock(nn.Module):\n",
        "    expansion = 1\n",
        "\n",
        "    def __init__(self, in_planes, planes, stride=1):\n",
        "        super(BasicBlock, self).__init__()\n",
        "        self.conv1 = conv3x3(in_planes, planes, stride)\n",
        "        self.bn1 = nn.BatchNorm2d(planes)\n",
        "        self.conv2 = conv3x3(planes, planes)\n",
        "        self.bn2 = nn.BatchNorm2d(planes)\n",
        "\n",
        "        self.shortcut = nn.Sequential()\n",
        "        if stride != 1 or in_planes != self.expansion * planes:\n",
        "            self.shortcut = nn.Sequential(\n",
        "                nn.Conv2d(in_planes, self.expansion*planes, kernel_size=1, stride=stride, bias=True),\n",
        "                nn.BatchNorm2d(self.expansion*planes)\n",
        "            )\n",
        "\n",
        "    def forward(self, x):\n",
        "        out = F.relu(self.bn1(self.conv1(x)))\n",
        "        out = self.bn2(self.conv2(out))\n",
        "        out += self.shortcut(x)\n",
        "        out = F.relu(out)\n",
        "\n",
        "        return out\n",
        "\n",
        "class Bottleneck(nn.Module):\n",
        "    expansion = 4\n",
        "\n",
        "    def __init__(self, in_planes, planes, stride=1):\n",
        "        super(Bottleneck, self).__init__()\n",
        "        self.conv1 = nn.Conv2d(in_planes, planes, kernel_size=1, bias=True)\n",
        "        self.bn1 = nn.BatchNorm2d(planes)\n",
        "        self.conv2 = nn.Conv2d(planes, planes, kernel_size=3, stride=stride, padding=1, bias=True)\n",
        "        self.bn2 = nn.BatchNorm2d(planes)\n",
        "        self.conv3 = nn.Conv2d(planes, self.expansion*planes, kernel_size=1, bias=True)\n",
        "        self.bn3 = nn.BatchNorm2d(self.expansion*planes)\n",
        "\n",
        "        self.shortcut = nn.Sequential()\n",
        "        if stride != 1 or in_planes != self.expansion*planes:\n",
        "            self.shortcut = nn.Sequential(\n",
        "                nn.Conv2d(in_planes, self.expansion*planes, kernel_size=1, stride=stride, bias=True),\n",
        "                nn.BatchNorm2d(self.expansion*planes)\n",
        "            )\n",
        "\n",
        "    def forward(self, x):\n",
        "        out = F.relu(self.bn1(self.conv1(x)))\n",
        "        out = F.relu(self.bn2(self.conv2(out)))\n",
        "        out = self.bn3(self.conv3(out))\n",
        "        out += self.shortcut(x)\n",
        "        out = F.relu(out)\n",
        "\n",
        "        return out\n",
        "\n",
        "class ResNet(nn.Module):\n",
        "    def __init__(self, depth, num_classes):\n",
        "        super(ResNet, self).__init__()\n",
        "        self.in_planes = 16\n",
        "\n",
        "        block, num_blocks = cfg(depth)\n",
        "\n",
        "        self.conv1 = conv3x3(3,16)\n",
        "        self.bn1 = nn.BatchNorm2d(16)\n",
        "        self.layer1 = self._make_layer(block, 16, num_blocks[0], stride=1)\n",
        "        self.layer2 = self._make_layer(block, 32, num_blocks[1], stride=2)\n",
        "        self.layer3 = self._make_layer(block, 64, num_blocks[2], stride=2)\n",
        "        self.linear = nn.Linear(64*block.expansion, num_classes)\n",
        "\n",
        "    def _make_layer(self, block, planes, num_blocks, stride):\n",
        "        strides = [stride] + [1]*(num_blocks-1)\n",
        "        layers = []\n",
        "\n",
        "        for stride in strides:\n",
        "            layers.append(block(self.in_planes, planes, stride))\n",
        "            self.in_planes = planes * block.expansion\n",
        "\n",
        "        return nn.Sequential(*layers)\n",
        "\n",
        "    def forward(self, x):\n",
        "        out = F.relu(self.bn1(self.conv1(x)))\n",
        "        out = self.layer1(out)\n",
        "        out = self.layer2(out)\n",
        "        out = self.layer3(out)\n",
        "        out = F.avg_pool2d(out, 8)\n",
        "        out = out.view(out.size(0), -1)\n",
        "        out = self.linear(out)\n",
        "\n",
        "        return out"
      ],
      "metadata": {
        "id": "B7BS1f9r1909"
      },
      "execution_count": 7,
      "outputs": []
    },
    {
      "cell_type": "code",
      "source": [
        "device = 'cuda' if torch.cuda.is_available() else 'cpu'\n",
        "print(device)"
      ],
      "metadata": {
        "colab": {
          "base_uri": "https://localhost:8080/"
        },
        "id": "ybKMSm7If9Ci",
        "outputId": "0b2204e7-18a5-4f47-c94c-a30d693be591"
      },
      "execution_count": 5,
      "outputs": [
        {
          "output_type": "stream",
          "name": "stdout",
          "text": [
            "cuda\n"
          ]
        }
      ]
    },
    {
      "cell_type": "code",
      "source": [
        "def create_model():\n",
        "  return ResNet(18, 10).to(device)"
      ],
      "metadata": {
        "id": "MZzeijnWf-SZ"
      },
      "execution_count": 6,
      "outputs": []
    },
    {
      "cell_type": "markdown",
      "source": [
        "Training each version of the model takes a while, so we store trained models on github. The following code blocks define functions for loading and saving models."
      ],
      "metadata": {
        "id": "A6pjwtbtfM67"
      }
    },
    {
      "cell_type": "markdown",
      "source": [
        "To store the trained models have implemented a mechanism combining torch.save() and a git repository. In particular with the function save_model() we store the model in local and then with load_model() we are able to recover it already trained."
      ],
      "metadata": {
        "id": "SsQPPvxk71Qn"
      }
    },
    {
      "cell_type": "code",
      "source": [
        "! rm -rf repo && git clone https://github.com/dp1/adversarial-training-for-free repo"
      ],
      "metadata": {
        "id": "YvZWyLInfZBR",
        "colab": {
          "base_uri": "https://localhost:8080/"
        },
        "outputId": "8bec4dbd-30d4-4b11-859b-d610422ae88c"
      },
      "execution_count": 7,
      "outputs": [
        {
          "output_type": "stream",
          "name": "stdout",
          "text": [
            "Cloning into 'repo'...\n",
            "remote: Enumerating objects: 48, done.\u001b[K\n",
            "remote: Counting objects: 100% (48/48), done.\u001b[K\n",
            "remote: Compressing objects: 100% (44/44), done.\u001b[K\n",
            "remote: Total 48 (delta 6), reused 10 (delta 1), pack-reused 0\u001b[K\n",
            "Unpacking objects: 100% (48/48), 6.98 MiB | 4.27 MiB/s, done.\n"
          ]
        }
      ]
    },
    {
      "cell_type": "code",
      "source": [
        "def save_model(name, model, training_metadata):\n",
        "  torch.save({\n",
        "      'metadata': training_metadata,\n",
        "      'weights': model.state_dict()\n",
        "  }, f'{name}.pth')\n",
        "\n",
        "def load_model(name):\n",
        "  data = torch.load(f'repo/models/{name}.pth')\n",
        "  model = create_model()\n",
        "  model.load_state_dict(data['weights'])\n",
        "  return (model, data['metadata'])"
      ],
      "metadata": {
        "id": "j8cOwWRChMmt"
      },
      "execution_count": 8,
      "outputs": []
    },
    {
      "cell_type": "code",
      "source": [
        "def accuracy(net, loader, device):\n",
        "  acc = torchmetrics.Accuracy(task='multiclass', num_classes=10).to(device)\n",
        "  for xb, yb in loader:\n",
        "      xb, yb = xb.to(device), yb.to(device)\n",
        "      ypred = net(xb)\n",
        "      _ = acc(ypred, yb)\n",
        "  return acc.compute()"
      ],
      "metadata": {
        "id": "m5ACjwqkgAoY"
      },
      "execution_count": 9,
      "outputs": []
    },
    {
      "cell_type": "code",
      "source": [
        "#model = create_model()\n",
        "#accuracy(model, test_loader, device)"
      ],
      "metadata": {
        "id": "bebsqFX_gE8f"
      },
      "execution_count": null,
      "outputs": []
    },
    {
      "cell_type": "markdown",
      "source": [
        "**Classic training algorithm**"
      ],
      "metadata": {
        "id": "2W9ETAcS9S_g"
      }
    },
    {
      "cell_type": "code",
      "source": [
        "def train_model(model, epochs=60):\n",
        "  start_time = datetime.now()\n",
        "  epoch_accuracies = []\n",
        "\n",
        "  loss = nn.CrossEntropyLoss()\n",
        "  opt = torch.optim.Adam(model.parameters())\n",
        "\n",
        "  for epoch in range(epochs):\n",
        "    model.train()\n",
        "    for xb, yb in tqdm.tqdm(train_loader):\n",
        "      \n",
        "      xb, yb = xb.to(device), yb.to(device)\n",
        "\n",
        "      opt.zero_grad()\n",
        "      ypred = model(xb)\n",
        "      l = loss(ypred, yb)\n",
        "      l.backward()\n",
        "      opt.step()\n",
        "\n",
        "    model.eval()\n",
        "    epoch_accuracies.append(float(accuracy(model, test_loader, device)))\n",
        "    print(f'Accuracy at epoch {epoch}: {epoch_accuracies[-1]}')\n",
        "  \n",
        "  training_time = datetime.now() - start_time\n",
        "  print(f'Training took {training_time}')\n",
        "\n",
        "  return {\n",
        "      'training_seconds': round(training_time.total_seconds()),\n",
        "      'epoch_accuracies': epoch_accuracies\n",
        "  }"
      ],
      "metadata": {
        "id": "iw3gJ4mFam7F"
      },
      "execution_count": 10,
      "outputs": []
    },
    {
      "cell_type": "code",
      "source": [
        "#training_metadata = train_model(model, epochs=60)"
      ],
      "metadata": {
        "id": "rgikMZeScfvp"
      },
      "execution_count": null,
      "outputs": []
    },
    {
      "cell_type": "code",
      "source": [
        "#save_model('resnet-natural', model, training_metadata)"
      ],
      "metadata": {
        "id": "daWkget2in42"
      },
      "execution_count": null,
      "outputs": []
    },
    {
      "cell_type": "code",
      "source": [
        "%pip install torchattacks"
      ],
      "metadata": {
        "colab": {
          "base_uri": "https://localhost:8080/"
        },
        "id": "9-NIPtUVjUXV",
        "outputId": "b9ce8e7d-b76a-450c-a37a-b7a6d5d30a0b"
      },
      "execution_count": 11,
      "outputs": [
        {
          "output_type": "stream",
          "name": "stdout",
          "text": [
            "Looking in indexes: https://pypi.org/simple, https://us-python.pkg.dev/colab-wheels/public/simple/\n",
            "Requirement already satisfied: torchattacks in /usr/local/lib/python3.8/dist-packages (3.3.0)\n"
          ]
        }
      ]
    },
    {
      "cell_type": "markdown",
      "source": [
        "**PGD-k attack implementation**"
      ],
      "metadata": {
        "id": "HAwkqzZo90Fc"
      }
    },
    {
      "cell_type": "code",
      "source": [
        "import torchattacks"
      ],
      "metadata": {
        "id": "JvnxRxuzk51H"
      },
      "execution_count": 12,
      "outputs": []
    },
    {
      "cell_type": "code",
      "source": [
        "def test_pgd_attack(model, k=20):\n",
        "  atk = torchattacks.PGD(model, steps=k)\n",
        "  adversarial = [[atk(test_x, test_y), test_y] for test_x, test_y in test_loader]\n",
        "  \n",
        "  acc_normal = float(accuracy(model, test_loader, device))\n",
        "  acc_adversarial = float(accuracy(model, adversarial, device))\n",
        "  \n",
        "  print(f'Accuracy on normal dataset: {acc_normal}')\n",
        "  print(f'Accuracy on adversarial samples: {acc_adversarial}')\n",
        "  return acc_normal, acc_adversarial"
      ],
      "metadata": {
        "id": "9DX81xG9k_CQ"
      },
      "execution_count": 13,
      "outputs": []
    },
    {
      "cell_type": "code",
      "source": [
        "#test_pgd_attack(model, k=5)"
      ],
      "metadata": {
        "id": "XWSzjiAZlKpI"
      },
      "execution_count": null,
      "outputs": []
    },
    {
      "cell_type": "markdown",
      "source": [
        "**TODO:** explain the free_training"
      ],
      "metadata": {
        "id": "yOAxEmsN97yz"
      }
    },
    {
      "cell_type": "code",
      "source": [
        "from torch.autograd import Variable\n",
        "\n",
        "def free_training(model, epochs=60, m=1, eps=8/255):\n",
        "  start_time = datetime.now()\n",
        "  epoch_accuracies = []\n",
        "\n",
        "  loss = nn.CrossEntropyLoss()\n",
        "  opt = torch.optim.Adam(model.parameters())\n",
        "\n",
        "  d = torch.zeros([batch_size, 3, 32, 32]).to(device)\n",
        "\n",
        "  for epoch in range(epochs // m):\n",
        "\n",
        "    model.train()\n",
        "    for xb, yb in tqdm.tqdm(train_loader):\n",
        "      xb, yb = xb.to(device), yb.to(device)\n",
        "      \n",
        "      for _ in range(m):\n",
        "\n",
        "        cur_batch_size = xb.shape[0]\n",
        "        delta = Variable(d[:cur_batch_size], requires_grad=True)\n",
        "        x_adv = xb + delta\n",
        "\n",
        "        opt.zero_grad()\n",
        "        ypred = model(x_adv)\n",
        "        l = loss(ypred, yb)\n",
        "        l.backward()\n",
        "\n",
        "        pert = torch.sign(delta.grad) * eps\n",
        "        d[:cur_batch_size] += pert.data\n",
        "        d.clamp_(-eps, eps)\n",
        "        \n",
        "        opt.step()\n",
        "\n",
        "    model.eval()\n",
        "    epoch_accuracies.append(float(accuracy(model, test_loader, device)))\n",
        "    print(f'Accuracy at epoch {epoch}: {epoch_accuracies[-1]}')\n",
        "    \n",
        "  training_time = datetime.now() - start_time\n",
        "  print(f'Training took {training_time}')\n",
        "\n",
        "  return {\n",
        "      'training_seconds': round(training_time.total_seconds()),\n",
        "      'epoch_accuracies': epoch_accuracies\n",
        "  }"
      ],
      "metadata": {
        "id": "h3cgVtUrcgIo"
      },
      "execution_count": 14,
      "outputs": []
    },
    {
      "cell_type": "code",
      "source": [
        "#print(batch_size)"
      ],
      "metadata": {
        "id": "p_aelgcdo2le"
      },
      "execution_count": null,
      "outputs": []
    },
    {
      "cell_type": "code",
      "source": [
        "#for m in [1,2,4,6,10,15,30,60]:\n",
        "  #model_adv = create_model()\n",
        "  #training_metadata = free_training(model_adv, epochs=60, m=m, eps=8/255)\n",
        "  #print(training_metadata)\n",
        "  #save_model(f'resnet-m={m}', model_adv, training_metadata)\n"
      ],
      "metadata": {
        "id": "NSp5KCNhxMoS"
      },
      "execution_count": null,
      "outputs": []
    },
    {
      "cell_type": "code",
      "source": [
        "import json\n",
        "def save_data(name, metadata):\n",
        "  with open(f'{name}.json', \"w\") as fout:\n",
        "    json.dump(metadata, fout)\n",
        "\n",
        "def load_data(name):\n",
        "  with open(f'repo/models/{name}.json') as fin:\n",
        "    data = json.load(fin)\n",
        "    return data"
      ],
      "metadata": {
        "id": "t8PQPFbB8Jwj"
      },
      "execution_count": 15,
      "outputs": []
    },
    {
      "cell_type": "markdown",
      "source": [
        "**SAVE ACCURACIES AND TRAINING_TIME OF EACH MODEL**"
      ],
      "metadata": {
        "id": "ly3UPgPZJ9D7"
      }
    },
    {
      "cell_type": "code",
      "source": [
        "model, meta = load_model(\"resnet-natural\")\n",
        "acc_normal, acc_adv20 = test_pgd_attack(model, k=20)\n",
        "acc_normal, acc_adv100 = test_pgd_attack(model, k=100)\n",
        "time = meta[\"training_seconds\"] // 60\n",
        "\n",
        "meta = {\"natural\": acc_normal,\n",
        "          \"pgd20_acc\": acc_adv20,\n",
        "          \"pgd100_acc\": acc_adv100,\n",
        "          \"train_time\": time }\n",
        "save_data(\"data-natural\", meta)\n",
        "\n",
        "\n",
        "for m in [1,2,4,6,10,15,30,60]:\n",
        "  model, meta = load_model(\"resnet-m=\"+str(m))\n",
        "  acc_normal, acc_adv20 = test_pgd_attack(model, k=20)\n",
        "  acc_normal, acc_adv100 = test_pgd_attack(model, k=20)\n",
        "  time = meta[\"training_seconds\"] // 60\n",
        "  meta = {\"natural\": acc_normal,\n",
        "          \"pgd20_acc\": acc_adv20,\n",
        "          \"pgd100_acc\": acc_adv100,\n",
        "          \"train_time\": time }\n",
        "  save_data(\"data-m=\"+str(m), meta)"
      ],
      "metadata": {
        "id": "ZcAtevYN88JE",
        "colab": {
          "base_uri": "https://localhost:8080/"
        },
        "outputId": "cadd061e-2a43-49f7-cb83-768a12435800"
      },
      "execution_count": 21,
      "outputs": [
        {
          "output_type": "stream",
          "name": "stdout",
          "text": [
            "Accuracy on normal dataset: 0.8676999807357788\n",
            "Accuracy on adversarial samples: 0.0\n",
            "Accuracy on normal dataset: 0.8676999807357788\n",
            "Accuracy on adversarial samples: 0.0\n",
            "Accuracy on normal dataset: 0.8618000149726868\n",
            "Accuracy on adversarial samples: 0.0003000000142492354\n",
            "Accuracy on normal dataset: 0.8618000149726868\n",
            "Accuracy on adversarial samples: 9.999999747378752e-05\n",
            "Accuracy on normal dataset: 0.791100025177002\n",
            "Accuracy on adversarial samples: 0.2680000066757202\n",
            "Accuracy on normal dataset: 0.791100025177002\n",
            "Accuracy on adversarial samples: 0.2515999972820282\n",
            "Accuracy on normal dataset: 0.6782000064849854\n",
            "Accuracy on adversarial samples: 0.375900000333786\n",
            "Accuracy on normal dataset: 0.6782000064849854\n",
            "Accuracy on adversarial samples: 0.36469998955726624\n",
            "Accuracy on normal dataset: 0.6470999717712402\n",
            "Accuracy on adversarial samples: 0.3749000132083893\n",
            "Accuracy on normal dataset: 0.6470999717712402\n",
            "Accuracy on adversarial samples: 0.36980000138282776\n",
            "Accuracy on normal dataset: 0.5730999708175659\n",
            "Accuracy on adversarial samples: 0.35600000619888306\n",
            "Accuracy on normal dataset: 0.5730999708175659\n",
            "Accuracy on adversarial samples: 0.3407999873161316\n",
            "Accuracy on normal dataset: 0.5220999717712402\n",
            "Accuracy on adversarial samples: 0.34630000591278076\n",
            "Accuracy on normal dataset: 0.5220999717712402\n",
            "Accuracy on adversarial samples: 0.3393999934196472\n",
            "Accuracy on normal dataset: 0.4456000030040741\n",
            "Accuracy on adversarial samples: 0.2793000042438507\n",
            "Accuracy on normal dataset: 0.4456000030040741\n",
            "Accuracy on adversarial samples: 0.2732999920845032\n",
            "Accuracy on normal dataset: 0.30160000920295715\n",
            "Accuracy on adversarial samples: 0.17790000140666962\n",
            "Accuracy on normal dataset: 0.30160000920295715\n",
            "Accuracy on adversarial samples: 0.16249999403953552\n"
          ]
        }
      ]
    },
    {
      "cell_type": "markdown",
      "source": [
        "**PRINT METADATA OF ALL TRAINED MODELS**"
      ],
      "metadata": {
        "id": "-YacGfs_Qzxt"
      }
    },
    {
      "cell_type": "code",
      "source": [
        "\n",
        "for m in [1,2,4,6,10,15,30,60]:\n",
        "  #model, meta = load_model(\"resnet-m=\"+str(m))\n",
        "  meta_data = load_data(\"data-m=\"+str(m))\n",
        "  #acc_normal, acc_adv = test_pgd_attack(model, k=20)\n",
        "  train_time = meta_data[\"train_time\"]\n",
        "  acc_normal = meta_data[\"natural\"]\n",
        "  acc_adv20 = meta_data[\"pgd20_acc\"]\n",
        "  acc_adv100 = meta_data[\"pgd100_acc\"]\n",
        "  print(f\"...........................m={m}.........................................\")\n",
        "  print(f\"Model: Resnet-m={m}, training time: {train_time} minutes\")\n",
        "  print(f\"Accuracy on NATURAL dataset: {acc_normal}\")\n",
        "  print(f\"Accuracy on ADVERSARIAL dataset (PGD-20): {acc_adv20}\")\n",
        "  print(f\"Accuracy on ADVERSARIAL dataset (PGD-100): {acc_adv100}\")\n",
        "  print()\n"
      ],
      "metadata": {
        "id": "-hTjadK3lqhW",
        "colab": {
          "base_uri": "https://localhost:8080/"
        },
        "outputId": "644c8f5b-55f3-41c2-876c-1ce73896e444"
      },
      "execution_count": 24,
      "outputs": [
        {
          "output_type": "stream",
          "name": "stdout",
          "text": [
            "...........................m=1.........................................\n",
            "Model: Resnet-m=1, training time: 27 minutes\n",
            "Accuracy on NATURAL dataset: 0.8618000149726868\n",
            "Accuracy on ADVERSARIAL dataset (PGD-20): 0.0003000000142492354\n",
            "Accuracy on ADVERSARIAL dataset (PGD-100): 9.999999747378752e-05\n",
            "\n",
            "...........................m=2.........................................\n",
            "Model: Resnet-m=2, training time: 19 minutes\n",
            "Accuracy on NATURAL dataset: 0.791100025177002\n",
            "Accuracy on ADVERSARIAL dataset (PGD-20): 0.2680000066757202\n",
            "Accuracy on ADVERSARIAL dataset (PGD-100): 0.2515999972820282\n",
            "\n",
            "...........................m=4.........................................\n",
            "Model: Resnet-m=4, training time: 15 minutes\n",
            "Accuracy on NATURAL dataset: 0.6782000064849854\n",
            "Accuracy on ADVERSARIAL dataset (PGD-20): 0.375900000333786\n",
            "Accuracy on ADVERSARIAL dataset (PGD-100): 0.36469998955726624\n",
            "\n",
            "...........................m=6.........................................\n",
            "Model: Resnet-m=6, training time: 14 minutes\n",
            "Accuracy on NATURAL dataset: 0.6470999717712402\n",
            "Accuracy on ADVERSARIAL dataset (PGD-20): 0.3749000132083893\n",
            "Accuracy on ADVERSARIAL dataset (PGD-100): 0.36980000138282776\n",
            "\n",
            "...........................m=10.........................................\n",
            "Model: Resnet-m=10, training time: 13 minutes\n",
            "Accuracy on NATURAL dataset: 0.5730999708175659\n",
            "Accuracy on ADVERSARIAL dataset (PGD-20): 0.35600000619888306\n",
            "Accuracy on ADVERSARIAL dataset (PGD-100): 0.3407999873161316\n",
            "\n",
            "...........................m=15.........................................\n",
            "Model: Resnet-m=15, training time: 12 minutes\n",
            "Accuracy on NATURAL dataset: 0.5220999717712402\n",
            "Accuracy on ADVERSARIAL dataset (PGD-20): 0.34630000591278076\n",
            "Accuracy on ADVERSARIAL dataset (PGD-100): 0.3393999934196472\n",
            "\n",
            "...........................m=30.........................................\n",
            "Model: Resnet-m=30, training time: 11 minutes\n",
            "Accuracy on NATURAL dataset: 0.4456000030040741\n",
            "Accuracy on ADVERSARIAL dataset (PGD-20): 0.2793000042438507\n",
            "Accuracy on ADVERSARIAL dataset (PGD-100): 0.2732999920845032\n",
            "\n",
            "...........................m=60.........................................\n",
            "Model: Resnet-m=60, training time: 11 minutes\n",
            "Accuracy on NATURAL dataset: 0.30160000920295715\n",
            "Accuracy on ADVERSARIAL dataset (PGD-20): 0.17790000140666962\n",
            "Accuracy on ADVERSARIAL dataset (PGD-100): 0.16249999403953552\n",
            "\n"
          ]
        }
      ]
    },
    {
      "cell_type": "markdown",
      "source": [
        "**PLOTS**"
      ],
      "metadata": {
        "id": "kXsT2INoKNww"
      }
    },
    {
      "cell_type": "code",
      "source": [
        "%pip install --upgrade matplotlib\n",
        "import matplotlib.pyplot as plt\n"
      ],
      "metadata": {
        "id": "Ef5ggJ0wxF1O",
        "colab": {
          "base_uri": "https://localhost:8080/"
        },
        "outputId": "e9bb85d8-d829-464c-f808-ea86248b6533"
      },
      "execution_count": 16,
      "outputs": [
        {
          "output_type": "stream",
          "name": "stdout",
          "text": [
            "Looking in indexes: https://pypi.org/simple, https://us-python.pkg.dev/colab-wheels/public/simple/\n",
            "Requirement already satisfied: matplotlib in /usr/local/lib/python3.8/dist-packages (3.6.3)\n",
            "Requirement already satisfied: cycler>=0.10 in /usr/local/lib/python3.8/dist-packages (from matplotlib) (0.11.0)\n",
            "Requirement already satisfied: pillow>=6.2.0 in /usr/local/lib/python3.8/dist-packages (from matplotlib) (7.1.2)\n",
            "Requirement already satisfied: numpy>=1.19 in /usr/local/lib/python3.8/dist-packages (from matplotlib) (1.21.6)\n",
            "Requirement already satisfied: python-dateutil>=2.7 in /usr/local/lib/python3.8/dist-packages (from matplotlib) (2.8.2)\n",
            "Requirement already satisfied: kiwisolver>=1.0.1 in /usr/local/lib/python3.8/dist-packages (from matplotlib) (1.4.4)\n",
            "Requirement already satisfied: packaging>=20.0 in /usr/local/lib/python3.8/dist-packages (from matplotlib) (23.0)\n",
            "Requirement already satisfied: fonttools>=4.22.0 in /usr/local/lib/python3.8/dist-packages (from matplotlib) (4.38.0)\n",
            "Requirement already satisfied: contourpy>=1.0.1 in /usr/local/lib/python3.8/dist-packages (from matplotlib) (1.0.7)\n",
            "Requirement already satisfied: pyparsing>=2.2.1 in /usr/local/lib/python3.8/dist-packages (from matplotlib) (3.0.9)\n",
            "Requirement already satisfied: six>=1.5 in /usr/local/lib/python3.8/dist-packages (from python-dateutil>=2.7->matplotlib) (1.15.0)\n"
          ]
        }
      ]
    },
    {
      "cell_type": "markdown",
      "source": [
        "**HISTOGRAM ON NATURAL DATA**"
      ],
      "metadata": {
        "id": "S3sUhvAsKRSC"
      }
    },
    {
      "cell_type": "code",
      "source": [
        "fig,axes=plt.subplots(figsize=(14, 7))\n",
        "axes.set_title(\"CIFAR-10 model accuracy (naturally trained)\")\n",
        "axes.set_xlabel(\"number of replay steps m\")\n",
        "axes.set_ylabel(\"validication accuracy (%)\")\n",
        "categories = [\"m=1\", \"m=2\", \"m=4\", \"m=6\", \"m=10\", \"m=15\", \"m=30\", \"m=60\"] \n",
        "output = []\n",
        "\n",
        "for m in [1,2,4,6,10,15,30,60]:\n",
        "  #model, meta = load_model(\"resnet-m=\"+str(m))\n",
        "  data = load_data(\"data-m=\"+str(m))\n",
        "  accuracy_m = data[\"natural\"]\n",
        "  output.append(accuracy_m)\n",
        "  \n",
        "axes.set_yticks(np.linspace(0,1,11))\n",
        "axes.set_ylim(0,1)\n",
        "b=axes.bar(categories, output, edgecolor=\"black\")\n",
        "axes.bar_label(b, padding=3)\n",
        "plt.show()"
      ],
      "metadata": {
        "id": "7ZyP3MA0w9xe",
        "colab": {
          "base_uri": "https://localhost:8080/",
          "height": 458
        },
        "outputId": "499e7eba-d931-4526-a325-71737696db46"
      },
      "execution_count": 20,
      "outputs": [
        {
          "output_type": "display_data",
          "data": {
            "text/plain": [
              "<Figure size 1008x504 with 1 Axes>"
            ],
            "image/png": "[encoded data removed]"
          },
          "metadata": {
            "needs_background": "light"
          }
        }
      ]
    },
    {
      "cell_type": "markdown",
      "source": [
        "**COMPARISON WITH DIFFERENT m, DIFFERENT PGD-K and NATURAL TRAIN**"
      ],
      "metadata": {
        "id": "U_8xcGrqKVTD"
      }
    },
    {
      "cell_type": "code",
      "source": [
        "import pandas as pd\n",
        "train_algs = ['Natural', 'Free m=2', 'Free m=4', 'Free m=6', 'Free m=10', 'Free m=15', 'Free m=30']\n",
        "natural_data = []\n",
        "pgd_20 = []\n",
        "pgd_100 = []\n",
        "time = []\n",
        "\n",
        "\n",
        "# NATURAL TRAINING\n",
        "\"\"\"\n",
        "model, meta = load_model(\"resnet-natural\")\n",
        "time.append(meta[\"training_seconds\"])\n",
        "acc_normal, acc_adv = test_pgd_attack(model, k=20)\n",
        "natural_data.append(acc_normal)\n",
        "pgd_20.append(acc_adv)\n",
        "acc_normal, acc_adv = test_pgd_attack(model, k=100)\n",
        "pgd_100.append(acc_adv)\n",
        "\"\"\"\n",
        "data = load_data(\"data-natural\")\n",
        "time.append(data[\"train_time\"])\n",
        "pgd_20.append(data[\"pgd20_acc\"])\n",
        "pgd_100.append(data[\"pgd100_acc\"])\n",
        "natural_data.append(data[\"natural\"])\n",
        "\n",
        "# FREE TRAINING\n",
        "for m in [2,4,6,10,15,30]:\n",
        "  \"\"\"\n",
        "  model, meta = load_model(\"resnet-m=\"+str(m))\n",
        "  time.append(meta[\"training_seconds\"])\n",
        "  acc_normal, acc_adv = test_pgd_attack(model, k=20)\n",
        "  natural_data.append(acc_normal)\n",
        "  pgd_20.append(acc_adv)\n",
        "  acc_normal, acc_adv = test_pgd_attack(model, k=100)\n",
        "  pgd_100.append(acc_adv)\n",
        "  \"\"\"\n",
        "  meta = load_data(\"data-m=\"+str(m))\n",
        "  time.append(meta[\"train_time\"])\n",
        "  pgd_20.append(meta[\"pgd20_acc\"])\n",
        "  pgd_100.append(meta[\"pgd100_acc\"])\n",
        "  natural_data.append(meta[\"natural\"])\n",
        "\n",
        "data = {'Natural-Dataset': natural_data,\n",
        "        'PGD-20':pgd_20,\n",
        "        'PGD-100':pgd_100,\n",
        "        'Training-Time (min)':time}\n",
        "table=pd.DataFrame(data, dtype=float, index= train_algs)\n",
        "print(table)"
      ],
      "metadata": {
        "id": "cBZXOhN7LdxN",
        "colab": {
          "base_uri": "https://localhost:8080/"
        },
        "outputId": "af247d17-c680-4a81-b503-f97357e58012"
      },
      "execution_count": 27,
      "outputs": [
        {
          "output_type": "stream",
          "name": "stdout",
          "text": [
            "           Natural-Dataset  PGD-20  PGD-100  Training-Time (min)\n",
            "Natural             0.8677  0.0000   0.0000                 27.0\n",
            "Free m=2            0.7911  0.2680   0.2516                 19.0\n",
            "Free m=4            0.6782  0.3759   0.3647                 15.0\n",
            "Free m=6            0.6471  0.3749   0.3698                 14.0\n",
            "Free m=10           0.5731  0.3560   0.3408                 13.0\n",
            "Free m=15           0.5221  0.3463   0.3394                 12.0\n",
            "Free m=30           0.4456  0.2793   0.2733                 11.0\n"
          ]
        }
      ]
    },
    {
      "cell_type": "markdown",
      "source": [
        "**TODO:** IT IS NEEDED?"
      ],
      "metadata": {
        "id": "pvzBc-G6KgqO"
      }
    },
    {
      "cell_type": "code",
      "source": [
        "fig, axes = plt.subplots(1,4, figsize=(14,17))\n",
        "ax2 = axes[0]\n",
        "ax4 = axes[1]\n",
        "ax10 = axes[2]\n",
        "ax30 = axes[3]\n",
        "#natural = test_loader\n",
        "#input = list(range(61))\n",
        "#output = []\n",
        "i = 0\n",
        "for m in [2,4,10,30]:\n",
        "  break\n",
        "  model, meta = load_model(\"resnet-m=\"+str(m))\n",
        "  acc_normal, acc_adv = test_pgd_attack(model, k=20)\n",
        "  #axes.plot(input, output[-1], label=\"trained with m=\"+str(m))\n",
        "  input = list(range(60//m))\n",
        "  axes[i].set_title(\"CIFAR-10 model accuracy (attacked with PGD20)\")\n",
        "  axes[i].set_xlabel(\"number of epochs\")\n",
        "  axes[i].set_ylabel(\"validication accuracy (%)\")\n",
        "  axes[i].plot(input, meta[\"epoch_accuracies\"],label=\"trained with m=\"+str(m))\n",
        "  axes[i].legend(fontsize=10)\n",
        "  i+=1\n",
        "\n"
      ],
      "metadata": {
        "id": "ViGeU4OZxEl-"
      },
      "execution_count": null,
      "outputs": []
    }
  ]
}